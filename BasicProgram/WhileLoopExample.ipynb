{
 "cells": [
  {
   "cell_type": "code",
   "execution_count": 3,
   "metadata": {},
   "outputs": [
    {
     "name": "stdout",
     "output_type": "stream",
     "text": [
      " the value of n is 0\n",
      " the value of n is 1\n",
      " the value of n is 2\n",
      " the value of n is 3\n",
      " the value of n is 4\n",
      " the value of n is 5\n",
      " the value of n is 6\n",
      " the value of n is 7\n",
      " the value of n is 8\n",
      " the value of n is 9\n",
      " the value of n is 10\n",
      "n is not less then equal to 10\n"
     ]
    }
   ],
   "source": [
    "n = 0\n",
    "\n",
    "while n<=10:\n",
    "    print (f' the value of n is {n}')\n",
    "    n = n+1\n",
    "else:\n",
    "    print('n is not less then equal to 10')"
   ]
  },
  {
   "cell_type": "code",
   "execution_count": 5,
   "metadata": {},
   "outputs": [
    {
     "name": "stdout",
     "output_type": "stream",
     "text": [
      "Placeholder pass is there, hence this loop passed as well\n"
     ]
    }
   ],
   "source": [
    "x=[1,2,3,4,5]\n",
    "\n",
    "for i in x:\n",
    "    #comments here\n",
    "    pass\n",
    "\n",
    "print ('Placeholder pass is there, hence this loop passed as well')"
   ]
  },
  {
   "cell_type": "code",
   "execution_count": 6,
   "metadata": {},
   "outputs": [
    {
     "name": "stdout",
     "output_type": "stream",
     "text": [
      "R\n",
      "M\n",
      "M\n",
      "N\n",
      "N\n"
     ]
    }
   ],
   "source": [
    "myString = 'RAMMANNA'\n",
    "\n",
    "for itr in myString:\n",
    "    if (itr=='A'):\n",
    "        continue\n",
    "    print(itr)"
   ]
  },
  {
   "cell_type": "code",
   "execution_count": 8,
   "metadata": {},
   "outputs": [
    {
     "name": "stdout",
     "output_type": "stream",
     "text": [
      "10\n",
      "9\n",
      "8\n",
      "7\n",
      "6\n"
     ]
    }
   ],
   "source": [
    "t = 10\n",
    "\n",
    "while t >=0 :\n",
    "    if(t==5):\n",
    "        break\n",
    "    print (t)\n",
    "    t -= 1\n",
    "    "
   ]
  },
  {
   "cell_type": "code",
   "execution_count": null,
   "metadata": {},
   "outputs": [],
   "source": []
  }
 ],
 "metadata": {
  "kernelspec": {
   "display_name": "Python 3",
   "language": "python",
   "name": "python3"
  },
  "language_info": {
   "codemirror_mode": {
    "name": "ipython",
    "version": 3
   },
   "file_extension": ".py",
   "mimetype": "text/x-python",
   "name": "python",
   "nbconvert_exporter": "python",
   "pygments_lexer": "ipython3",
   "version": "3.6.5"
  }
 },
 "nbformat": 4,
 "nbformat_minor": 2
}
