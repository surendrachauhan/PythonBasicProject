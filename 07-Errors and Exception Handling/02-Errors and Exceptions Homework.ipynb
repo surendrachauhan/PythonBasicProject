{
 "cells": [
  {
   "cell_type": "markdown",
   "metadata": {},
   "source": [
    "# Errors and Exceptions Homework"
   ]
  },
  {
   "cell_type": "markdown",
   "metadata": {},
   "source": [
    "### Problem 1\n",
    "Handle the exception thrown by the code below by using <code>try</code> and <code>except</code> blocks."
   ]
  },
  {
   "cell_type": "code",
   "execution_count": 1,
   "metadata": {},
   "outputs": [
    {
     "name": "stdout",
     "output_type": "stream",
     "text": [
      "This Operation is not allowed \n",
      "Executed finally\n",
      "This Operation is not allowed \n",
      "Executed finally\n",
      "This Operation is not allowed \n",
      "Executed finally\n"
     ]
    }
   ],
   "source": [
    "for i in ['a','b','c']:\n",
    "    try:\n",
    "        print(i**2)\n",
    "    except:\n",
    "        print(\"This Operation is not allowed \")\n",
    "    else:\n",
    "        print(\"Executed ..no issues\")\n",
    "    finally:\n",
    "        print(\"Executed finally\")"
   ]
  },
  {
   "cell_type": "markdown",
   "metadata": {},
   "source": [
    "### Problem 2\n",
    "Handle the exception thrown by the code below by using <code>try</code> and <code>except</code> blocks. Then use a <code>finally</code> block to print 'All Done.'"
   ]
  },
  {
   "cell_type": "code",
   "execution_count": 2,
   "metadata": {},
   "outputs": [
    {
     "name": "stdout",
     "output_type": "stream",
     "text": [
      "There is issue\n",
      "All Done\n"
     ]
    }
   ],
   "source": [
    "x = 5\n",
    "y = 0\n",
    "try:\n",
    "    z = x/y\n",
    "except:\n",
    "    print(\"There is issue\")\n",
    "finally:\n",
    "    print(\"All Done\")"
   ]
  },
  {
   "cell_type": "markdown",
   "metadata": {},
   "source": [
    "### Problem 3\n",
    "Write a function that asks for an integer and prints the square of it. Use a <code>while</code> loop with a <code>try</code>, <code>except</code>, <code>else</code> block to account for incorrect inputs."
   ]
  },
  {
   "cell_type": "code",
   "execution_count": 13,
   "metadata": {},
   "outputs": [],
   "source": [
    "def ask():\n",
    "    result = 0\n",
    "    while True:\n",
    "        try:\n",
    "            number = int(input(\"Please enter an Integer :\"))\n",
    "            result = number*number\n",
    "        except:\n",
    "            print(\"Number is not integer, please try again\")\n",
    "            continue\n",
    "        else:\n",
    "            print(f\"square of {number} is {result}\")\n",
    "            break\n",
    "        finally:\n",
    "            print (\"Finally process completed\")"
   ]
  },
  {
   "cell_type": "code",
   "execution_count": 14,
   "metadata": {},
   "outputs": [
    {
     "name": "stdout",
     "output_type": "stream",
     "text": [
      "Please enter an Integer :ds\n",
      "Number is not integer, please try again\n",
      "Finally process completed\n",
      "Please enter an Integer :ds\n",
      "Number is not integer, please try again\n",
      "Finally process completed\n",
      "Please enter an Integer :ggg\n",
      "Number is not integer, please try again\n",
      "Finally process completed\n",
      "Please enter an Integer :2\n",
      "square of 2 is 4\n",
      "Finally process completed\n"
     ]
    }
   ],
   "source": [
    "ask()"
   ]
  },
  {
   "cell_type": "markdown",
   "metadata": {},
   "source": [
    "# Great Job!"
   ]
  }
 ],
 "metadata": {
  "kernelspec": {
   "display_name": "Python 3",
   "language": "python",
   "name": "python3"
  },
  "language_info": {
   "codemirror_mode": {
    "name": "ipython",
    "version": 3
   },
   "file_extension": ".py",
   "mimetype": "text/x-python",
   "name": "python",
   "nbconvert_exporter": "python",
   "pygments_lexer": "ipython3",
   "version": "3.6.5"
  }
 },
 "nbformat": 4,
 "nbformat_minor": 1
}
